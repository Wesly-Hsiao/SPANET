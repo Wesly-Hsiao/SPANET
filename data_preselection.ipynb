{
 "cells": [
  {
   "cell_type": "code",
   "execution_count": 15,
   "metadata": {},
   "outputs": [],
   "source": [
    "import h5py\n",
    "from tqdm import tqdm\n",
    "import os\n",
    "import matplotlib.pyplot as plt\n",
    "import numpy as np"
   ]
  },
  {
   "cell_type": "code",
   "execution_count": 16,
   "metadata": {},
   "outputs": [
    {
     "name": "stderr",
     "output_type": "stream",
     "text": [
      "  0%|          | 0/8400 [00:00<?, ?it/s]\n"
     ]
    }
   ],
   "source": [
    "directory = \"./Data/event_record_top_lep_incl_CMS_jetR05_selected10M_BarcodeFixed\"\n",
    "jet_features_mass = []\n",
    "\n",
    "for filename in tqdm(os.listdir(directory)):\n",
    "    f = os.path.join(directory, filename)\n",
    "    if os.path.isfile(f):\n",
    "        with h5py.File(f, \"r\") as h5py_file:\n",
    "            break"
   ]
  },
  {
   "cell_type": "code",
   "execution_count": 34,
   "metadata": {},
   "outputs": [],
   "source": [
    "filename = \"./Data/event_record_top_lep_incl_CMS_jetR05_selected10M_BarcodeFixed/event_record_top_lep_incl_CMS_jetR05_100_1.h5\"\n",
    "cutflow = {}\n",
    "f = h5py.File(filename, 'r')\n",
    "tot = [True] * len(f['lepton_features/pid'][:])\n",
    "cutflow['beginning'] = np.count_nonzero(tot)\n",
    "\n",
    "\"\"\"\n",
    "The event must contain exactly one reconstructed charged lepton, with ET > 25 GeV for electrons and pT > 25 GeV for muons\n",
    "\"\"\"\n",
    "def lepton_selection(tot): \n",
    "    electron_passed = np.logical_and(f['lepton_features/pid'][:] == 11, np.sqrt(f['lepton_features/mass'][:]**2+f['lepton_features/pt'][:]**2) > 25**2)\n",
    "    muon_passed = np.logical_and(f['lepton_features/pid'][:] == 13, f['lepton_features/pt'][:] > 25)\n",
    "    passed = np.logical_or(electron_passed, muon_passed)\n",
    "    tot = np.logical_and(tot, passed)\n",
    "    return tot\n",
    "\n",
    "\"\"\"\n",
    "In the tt¯ → muon + jets channel, MET > 20 GeV and MET + mTW > 60 GeV.\n",
    "In the tt¯ → electron + jets channel, MET > 30 GeV and mTW > 30 GeV.\n",
    "\"\"\"\n",
    "def sec_selection(tot):\n",
    "    electron_passed = np.logical_and(f['lepton_features/pid'][:] == 11, np.sqrt(f['lepton_features/mass'][:]**2+f['lepton_features/pt'][:]**2) > 25**2)\n",
    "    muon_passed = np.logical_and(f['lepton_features/pid'][:] == 13, f['lepton_features/pt'][:] > 25)\n",
    "    passed = np.logical_or(electron_passed, muon_passed)\n",
    "    tot = np.logical_and(tot, passed)\n",
    "    return tot\n",
    "\n",
    "\n",
    "\n",
    "tot = lepton_selection(tot)\n",
    "cutflow['lepton_selection_passed'] = np.count_nonzero(tot)\n",
    "tot = lepton_selection(tot)\n",
    "cutflow['sec_selection_passed'] = np.count_nonzero(tot)\n"
   ]
  },
  {
   "cell_type": "code",
   "execution_count": 35,
   "metadata": {},
   "outputs": [
    {
     "data": {
      "text/plain": [
       "{'beginning': 1382, 'lepton_selection_passed': 771}"
      ]
     },
     "execution_count": 35,
     "metadata": {},
     "output_type": "execute_result"
    }
   ],
   "source": [
    "cutflow"
   ]
  },
  {
   "cell_type": "code",
   "execution_count": 37,
   "metadata": {},
   "outputs": [
    {
     "data": {
      "text/plain": [
       "(array([402., 459., 293., 136.,   0.,  62.,  21.,   4.,   3.,   2.]),\n",
       " array([ 4. ,  4.8,  5.6,  6.4,  7.2,  8. ,  8.8,  9.6, 10.4, 11.2, 12. ]),\n",
       " <BarContainer object of 10 artists>)"
      ]
     },
     "execution_count": 37,
     "metadata": {},
     "output_type": "execute_result"
    },
    {
     "data": {
      "image/png": "[encoded data removed]",
      "text/plain": [
       "<Figure size 432x288 with 1 Axes>"
      ]
     },
     "metadata": {
      "needs_background": "light"
     },
     "output_type": "display_data"
    }
   ],
   "source": [
    "plt.hist(f['jet_features/num_of_jets'][:])"
   ]
  },
  {
   "cell_type": "code",
   "execution_count": null,
   "metadata": {},
   "outputs": [],
   "source": []
  }
 ],
 "metadata": {
  "interpreter": {
   "hash": "31f2aee4e71d21fbe5cf8b01ff0e069b9275f58929596ceb00d14d90e3e16cd6"
  },
  "kernelspec": {
   "display_name": "Python 3.6.9 64-bit",
   "language": "python",
   "name": "python3"
  },
  "language_info": {
   "codemirror_mode": {
    "name": "ipython",
    "version": 3
   },
   "file_extension": ".py",
   "mimetype": "text/x-python",
   "name": "python",
   "nbconvert_exporter": "python",
   "pygments_lexer": "ipython3",
   "version": "3.6.9"
  },
  "orig_nbformat": 4
 },
 "nbformat": 4,
 "nbformat_minor": 2
}
