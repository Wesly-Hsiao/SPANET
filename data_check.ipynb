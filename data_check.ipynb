{
 "cells": [
  {
   "cell_type": "code",
   "execution_count": 1,
   "metadata": {},
   "outputs": [],
   "source": [
    "import numpy as np\n",
    "import matplotlib.pyplot as plt\n",
    "import h5py\n",
    "import autokeras as ak\n",
    "import pandas as pd\n",
    "import tensorflow as tf\n",
    "from tqdm import tqdm\n",
    "import os"
   ]
  },
  {
   "cell_type": "code",
   "execution_count": 2,
   "metadata": {},
   "outputs": [
    {
     "name": "stderr",
     "output_type": "stream",
     "text": [
      "  0%|          | 0/8400 [00:00<?, ?it/s]\n"
     ]
    }
   ],
   "source": [
    "directory = \"./Data/event_record_top_lep_incl_CMS_jetR05_selected10M_BarcodeFixed\"\n",
    "jet_features_mass = []\n",
    "\n",
    "for filename in tqdm(os.listdir(directory)):\n",
    "    f = os.path.join(directory, filename)\n",
    "    if os.path.isfile(f):\n",
    "        with h5py.File(f, \"r\") as h5py_file:\n",
    "            break"
   ]
  },
  {
   "cell_type": "code",
   "execution_count": 3,
   "metadata": {},
   "outputs": [
    {
     "name": "stdout",
     "output_type": "stream",
     "text": [
      "jet_features\n",
      "jet_features/barcode\n",
      "jet_features/btag\n",
      "jet_features/charge\n",
      "jet_features/eta\n",
      "jet_features/event\n",
      "jet_features/mass\n",
      "jet_features/num_of_jets\n",
      "jet_features/phi\n",
      "jet_features/pt\n",
      "lepton_features\n",
      "lepton_features/charge\n",
      "lepton_features/eta\n",
      "lepton_features/mass\n",
      "lepton_features/phi\n",
      "lepton_features/pid\n",
      "lepton_features/pt\n",
      "met_features\n",
      "met_features/MET\n",
      "met_features/eta\n",
      "met_features/phi\n",
      "parton_features\n",
      "parton_features/eta\n",
      "parton_features/masks\n",
      "parton_features/mass\n",
      "parton_features/parton_barcode\n",
      "parton_features/pdgid\n",
      "parton_features/phi\n",
      "parton_features/pt\n",
      "target\n",
      "target/left_target\n",
      "target/left_target/b\n",
      "target/left_target/lepton\n",
      "target/left_target/mask\n",
      "target/left_target/neutrino\n",
      "target/right_target\n",
      "target/right_target/b\n",
      "target/right_target/mask\n",
      "target/right_target/q1\n",
      "target/right_target/q2\n"
     ]
    }
   ],
   "source": [
    "def print_attrs(name):\n",
    "    print(name)\n",
    "\n",
    "filename = \"./Data/event_record_top_lep_incl_CMS_jetR05_selected10M_BarcodeFixed/event_record_top_lep_incl_CMS_jetR05_100_1.h5\"\n",
    "f = h5py.File(filename, 'r')\n",
    "f.visit(print_attrs)"
   ]
  },
  {
   "cell_type": "code",
   "execution_count": 27,
   "metadata": {},
   "outputs": [
    {
     "data": {
      "image/png": "[encoded data removed]",
      "text/plain": [
       "<Figure size 432x288 with 1 Axes>"
      ]
     },
     "metadata": {
      "needs_background": "light"
     },
     "output_type": "display_data"
    }
   ],
   "source": [
    "filename = \"./Data/event_record_top_lep_incl_CMS_jetR05_selected10M_BarcodeFixed/event_record_top_lep_incl_CMS_jetR05_100_1.h5\"\n",
    "\n",
    "def print_hists(name):\n",
    "    if name == 'jet_features/eta':\n",
    "        plt.hist(f[name][:][f[name][:] > -900], bins=100)\n",
    "        plt.xlabel(name)\n",
    "        plt.ylabel('number')\n",
    "        plt.show()\n",
    "\n",
    "f = h5py.File(filename, 'r')\n",
    "f.visit(print_hists)"
   ]
  },
  {
   "cell_type": "code",
   "execution_count": null,
   "metadata": {},
   "outputs": [],
   "source": []
  }
 ],
 "metadata": {
  "interpreter": {
   "hash": "31f2aee4e71d21fbe5cf8b01ff0e069b9275f58929596ceb00d14d90e3e16cd6"
  },
  "kernelspec": {
   "display_name": "Python 3.6.9 64-bit",
   "language": "python",
   "name": "python3"
  },
  "language_info": {
   "codemirror_mode": {
    "name": "ipython",
    "version": 3
   },
   "file_extension": ".py",
   "mimetype": "text/x-python",
   "name": "python",
   "nbconvert_exporter": "python",
   "pygments_lexer": "ipython3",
   "version": "3.6.9"
  },
  "orig_nbformat": 4
 },
 "nbformat": 4,
 "nbformat_minor": 2
}
